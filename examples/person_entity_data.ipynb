{
 "cells": [
  {
   "attachments": {},
   "cell_type": "markdown",
   "metadata": {},
   "source": [
    "## Entity Matching Example\n",
    "\n",
    "Using FEBRL synthetic data"
   ]
  },
  {
   "attachments": {},
   "cell_type": "markdown",
   "metadata": {},
   "source": [
    "### Load Dependencies"
   ]
  },
  {
   "cell_type": "code",
   "execution_count": 10,
   "metadata": {},
   "outputs": [
    {
     "name": "stdout",
     "output_type": "stream",
     "text": [
      "The autoreload extension is already loaded. To reload it, use:\n",
      "  %reload_ext autoreload\n"
     ]
    }
   ],
   "source": [
    "import json\n",
    "import pandas as pd\n",
    "\n",
    "from pyent.datasets import generate_febrl_data, remove_nan, sample_xy\n",
    "from pyent.datasets import train_test_validate_stratified_split as ttvs\n",
    "from pyent.features import generate_textual_features\n",
    "from pyent.train import train_txt_baseline\n",
    "from pyent.config import get_config\n",
    "\n",
    "pd.set_option('display.max_columns', None)\n",
    "pd.set_option('display.max_rows', None)\n",
    "\n",
    "%matplotlib inline\n",
    "%load_ext autoreload\n",
    "%autoreload 2"
   ]
  },
  {
   "attachments": {},
   "cell_type": "markdown",
   "metadata": {},
   "source": [
    "### Generate Synthetic Data "
   ]
  },
  {
   "cell_type": "code",
   "execution_count": 3,
   "metadata": {},
   "outputs": [
    {
     "name": "stdout",
     "output_type": "stream",
     "text": [
      "Before Droping NaN's shape of data is (86506, 23)\n",
      "After Droping NaN's shape of data is (52560, 23)\n"
     ]
    }
   ],
   "source": [
    "master_df = remove_nan(generate_febrl_data(init_seed=2))"
   ]
  },
  {
   "cell_type": "code",
   "execution_count": 4,
   "metadata": {},
   "outputs": [
    {
     "data": {
      "text/plain": [
       "no_match    49151\n",
       "match        3409\n",
       "Name: labels, dtype: int64"
      ]
     },
     "execution_count": 4,
     "metadata": {},
     "output_type": "execute_result"
    }
   ],
   "source": [
    "master_df.labels.value_counts()"
   ]
  },
  {
   "attachments": {},
   "cell_type": "markdown",
   "metadata": {},
   "source": [
    "### Split Data into Development and Test Sets"
   ]
  },
  {
   "cell_type": "code",
   "execution_count": 5,
   "metadata": {},
   "outputs": [],
   "source": [
    "X = master_df.loc[:, ~master_df.columns.isin([\"labels\"])]\n",
    "y = master_df.loc[:, \"labels\"]\n",
    "\n",
    "X_train, X_test, X_val, y_train, y_test, y_val = ttvs(\n",
    "    features=X, targets=y, test_size=0.1, validate_size=0.2)\n"
   ]
  },
  {
   "attachments": {},
   "cell_type": "markdown",
   "metadata": {},
   "source": [
    "### Get Parameters for Baseline Model Configuration\n"
   ]
  },
  {
   "cell_type": "code",
   "execution_count": 16,
   "metadata": {},
   "outputs": [
    {
     "name": "stdout",
     "output_type": "stream",
     "text": [
      "Model Training will take in the following external parameters\n",
      "{\n",
      "    \"model_name\": \"bert-base-uncased\",\n",
      "    \"num_epochs\": 1,\n",
      "    \"train_batch_size\": 64,\n",
      "    \"test_batch_size\": 32,\n",
      "    \"margin\": 0.5\n",
      "}\n"
     ]
    }
   ],
   "source": [
    "baseline_model_params = get_config()[\"model_params\"]\n",
    "\n",
    "print(f\"Model Training will take in the following external parameters\\n{json.dumps(baseline_model_params, indent=4)}\")"
   ]
  },
  {
   "attachments": {},
   "cell_type": "markdown",
   "metadata": {},
   "source": [
    "### Generate Textual Features"
   ]
  },
  {
   "cell_type": "code",
   "execution_count": 14,
   "metadata": {},
   "outputs": [
    {
     "name": "stdout",
     "output_type": "stream",
     "text": [
      "Train feature set shpae: (36792, 2) and Train target shape 36792\n",
      "Test feature set shpae: (5256, 2) and Test target shape 5256\n",
      "Validation feature set shape: (10512, 2) and Vaiidation target shape 10512\n"
     ]
    }
   ],
   "source": [
    "X_train_txt = generate_textual_features(X_train)\n",
    "X_test_txt = generate_textual_features(X_test)\n",
    "X_val_txt = generate_textual_features(X_val)\n",
    "\n",
    "print(f\"Train feature set shpae: {X_train_txt.shape} and Train target shape {len(y_train)}\\nTest feature set shpae: {X_test_txt.shape} and Test target shape {len(y_test)}\\nValidation feature set shape: {X_val_txt.shape} and Vaiidation target shape {len(y_val)}\")"
   ]
  },
  {
   "attachments": {},
   "cell_type": "markdown",
   "metadata": {},
   "source": [
    "### Develop Transformer based Siamese Neural Network Model as Baseline Model\n",
    "\n",
    "To start, for this model we can just look at the `sentence_l` and `sentence_r` _\"textual\"_ features we generated as shown above.\n",
    "\n",
    "<!-- \n",
    "![example_siamese](../docs/example_siamese.png)\n",
    "<h6>Image Obtained from Quora Blog Post: https://quoraengineering.quora.com/</h6>  \n",
    " -->\n",
    "  \n",
    "1. distill roberta base model fron huggingface\n",
    "2. for negative pairs (i.e. target variabkes with negative class labels) the margin = 0.5\n",
    "3. as distance metric we use cosine distance (1-cosine_similarity)\n"
   ]
  },
  {
   "cell_type": "code",
   "execution_count": 15,
   "metadata": {},
   "outputs": [
    {
     "name": "stdout",
     "output_type": "stream",
     "text": [
      "2023-02-24 02:02:05 - Load pretrained SentenceTransformer: bert-base-uncased\n",
      "2023-02-24 02:02:07 - No sentence-transformers model found with name /Users/mustafawaheed/.cache/torch/sentence_transformers/bert-base-uncased. Creating a new one with MEAN pooling.\n"
     ]
    },
    {
     "name": "stderr",
     "output_type": "stream",
     "text": [
      "Some weights of the model checkpoint at /Users/mustafawaheed/.cache/torch/sentence_transformers/bert-base-uncased were not used when initializing BertModel: ['cls.predictions.decoder.weight', 'cls.predictions.transform.dense.bias', 'cls.predictions.transform.dense.weight', 'cls.predictions.transform.LayerNorm.weight', 'cls.predictions.bias', 'cls.seq_relationship.bias', 'cls.seq_relationship.weight', 'cls.predictions.transform.LayerNorm.bias']\n",
      "- This IS expected if you are initializing BertModel from the checkpoint of a model trained on another task or with another architecture (e.g. initializing a BertForSequenceClassification model from a BertForPreTraining model).\n",
      "- This IS NOT expected if you are initializing BertModel from the checkpoint of a model that you expect to be exactly identical (initializing a BertForSequenceClassification model from a BertForSequenceClassification model).\n"
     ]
    },
    {
     "name": "stdout",
     "output_type": "stream",
     "text": [
      "2023-02-24 02:02:09 - Use pytorch device: cpu\n",
      "2023-02-24 02:02:09 - Evaluate model without training\n",
      "2023-02-24 02:02:09 - Binary Accuracy Evaluation of the model on  dataset in epoch 0 after 0 steps:\n"
     ]
    },
    {
     "data": {
      "application/vnd.jupyter.widget-view+json": {
       "model_id": "7d0c967e017447c7a986f13aa8e39a33",
       "version_major": 2,
       "version_minor": 0
      },
      "text/plain": [
       "Batches:   0%|          | 0/4 [00:00<?, ?it/s]"
      ]
     },
     "metadata": {},
     "output_type": "display_data"
    },
    {
     "name": "stdout",
     "output_type": "stream",
     "text": [
      "2023-02-24 02:02:14 - Accuracy with Cosine-Similarity:           91.67\t(Threshold: 0.8566)\n",
      "2023-02-24 02:02:14 - F1 with Cosine-Similarity:                 93.33\t(Threshold: 0.8566)\n",
      "2023-02-24 02:02:14 - Precision with Cosine-Similarity:          100.00\n",
      "2023-02-24 02:02:14 - Recall with Cosine-Similarity:             87.50\n",
      "2023-02-24 02:02:14 - Average Precision with Cosine-Similarity:  98.01\n",
      "\n",
      "2023-02-24 02:02:14 - Accuracy with Manhattan-Distance:           91.67\t(Threshold: 100.2859)\n",
      "2023-02-24 02:02:14 - F1 with Manhattan-Distance:                 93.55\t(Threshold: 105.4114)\n",
      "2023-02-24 02:02:14 - Precision with Manhattan-Distance:          96.67\n",
      "2023-02-24 02:02:14 - Recall with Manhattan-Distance:             90.62\n",
      "2023-02-24 02:02:14 - Average Precision with Manhattan-Distance:  98.50\n",
      "\n",
      "2023-02-24 02:02:14 - Accuracy with Euclidean-Distance:           91.67\t(Threshold: 4.5346)\n",
      "2023-02-24 02:02:14 - F1 with Euclidean-Distance:                 93.55\t(Threshold: 4.7832)\n",
      "2023-02-24 02:02:14 - Precision with Euclidean-Distance:          96.67\n",
      "2023-02-24 02:02:14 - Recall with Euclidean-Distance:             90.62\n",
      "2023-02-24 02:02:14 - Average Precision with Euclidean-Distance:  98.47\n",
      "\n",
      "2023-02-24 02:02:14 - Accuracy with Dot-Product:           80.21\t(Threshold: 54.9681)\n",
      "2023-02-24 02:02:14 - F1 with Dot-Product:                 85.50\t(Threshold: 54.9681)\n",
      "2023-02-24 02:02:14 - Precision with Dot-Product:          83.58\n",
      "2023-02-24 02:02:14 - Recall with Dot-Product:             87.50\n",
      "2023-02-24 02:02:14 - Average Precision with Dot-Product:  91.64\n",
      "\n",
      "2023-02-24 02:02:14 - Start Model Training\n"
     ]
    },
    {
     "data": {
      "application/vnd.jupyter.widget-view+json": {
       "model_id": "6a924456981d48089bddb413729eee8d",
       "version_major": 2,
       "version_minor": 0
      },
      "text/plain": [
       "Epoch:   0%|          | 0/1 [00:00<?, ?it/s]"
      ]
     },
     "metadata": {},
     "output_type": "display_data"
    },
    {
     "data": {
      "application/vnd.jupyter.widget-view+json": {
       "model_id": "8eca9ae611494bc59023e284304c28e0",
       "version_major": 2,
       "version_minor": 0
      },
      "text/plain": [
       "Iteration:   0%|          | 0/3 [00:00<?, ?it/s]"
      ]
     },
     "metadata": {},
     "output_type": "display_data"
    },
    {
     "name": "stdout",
     "output_type": "stream",
     "text": [
      "2023-02-24 02:03:06 - Binary Accuracy Evaluation of the model on  dataset after epoch 0:\n"
     ]
    },
    {
     "data": {
      "application/vnd.jupyter.widget-view+json": {
       "model_id": "a90a3cbc476747aeb7347446fc3c9348",
       "version_major": 2,
       "version_minor": 0
      },
      "text/plain": [
       "Batches:   0%|          | 0/4 [00:00<?, ?it/s]"
      ]
     },
     "metadata": {},
     "output_type": "display_data"
    },
    {
     "name": "stdout",
     "output_type": "stream",
     "text": [
      "2023-02-24 02:03:12 - Accuracy with Cosine-Similarity:           96.88\t(Threshold: 0.7931)\n",
      "2023-02-24 02:03:12 - F1 with Cosine-Similarity:                 97.71\t(Threshold: 0.7782)\n",
      "2023-02-24 02:03:12 - Precision with Cosine-Similarity:          95.52\n",
      "2023-02-24 02:03:12 - Recall with Cosine-Similarity:             100.00\n",
      "2023-02-24 02:03:12 - Average Precision with Cosine-Similarity:  99.76\n",
      "\n",
      "2023-02-24 02:03:12 - Accuracy with Manhattan-Distance:           96.88\t(Threshold: 111.6846)\n",
      "2023-02-24 02:03:12 - F1 with Manhattan-Distance:                 97.64\t(Threshold: 111.6846)\n",
      "2023-02-24 02:03:12 - Precision with Manhattan-Distance:          98.41\n",
      "2023-02-24 02:03:12 - Recall with Manhattan-Distance:             96.88\n",
      "2023-02-24 02:03:12 - Average Precision with Manhattan-Distance:  99.72\n",
      "\n",
      "2023-02-24 02:03:12 - Accuracy with Euclidean-Distance:           96.88\t(Threshold: 5.1010)\n",
      "2023-02-24 02:03:12 - F1 with Euclidean-Distance:                 97.64\t(Threshold: 5.1010)\n",
      "2023-02-24 02:03:12 - Precision with Euclidean-Distance:          98.41\n",
      "2023-02-24 02:03:12 - Recall with Euclidean-Distance:             96.88\n",
      "2023-02-24 02:03:12 - Average Precision with Euclidean-Distance:  99.72\n",
      "\n",
      "2023-02-24 02:03:12 - Accuracy with Dot-Product:           89.58\t(Threshold: 47.4509)\n",
      "2023-02-24 02:03:12 - F1 with Dot-Product:                 92.75\t(Threshold: 47.4509)\n",
      "2023-02-24 02:03:12 - Precision with Dot-Product:          86.49\n",
      "2023-02-24 02:03:12 - Recall with Dot-Product:             100.00\n",
      "2023-02-24 02:03:12 - Average Precision with Dot-Product:  97.37\n",
      "\n",
      "2023-02-24 02:03:12 - Save model to ../output/models/bert-base-uncased-bsz-64-ep-1-2023-02-24_02-02-05\n",
      "2023-02-24 02:03:13 - Evaluate model performance on test set\n",
      "2023-02-24 02:03:13 - Load pretrained SentenceTransformer: ../output/models/bert-base-uncased-bsz-64-ep-1-2023-02-24_02-02-05\n",
      "2023-02-24 02:03:14 - Use pytorch device: cpu\n"
     ]
    },
    {
     "data": {
      "application/vnd.jupyter.widget-view+json": {
       "model_id": "474616cb1b704beda3106181d7cd5300",
       "version_major": 2,
       "version_minor": 0
      },
      "text/plain": [
       "Batches:   0%|          | 0/4 [00:00<?, ?it/s]"
      ]
     },
     "metadata": {},
     "output_type": "display_data"
    },
    {
     "name": "stdout",
     "output_type": "stream",
     "text": [
      "2023-02-24 02:03:19 - Accuracy with Cosine-Similarity:           98.44\t(Threshold: 0.8228)\n",
      "2023-02-24 02:03:19 - F1 with Cosine-Similarity:                 98.41\t(Threshold: 0.8228)\n",
      "2023-02-24 02:03:19 - Precision with Cosine-Similarity:          100.00\n",
      "2023-02-24 02:03:19 - Recall with Cosine-Similarity:             96.88\n",
      "2023-02-24 02:03:19 - Average Precision with Cosine-Similarity:  99.65\n",
      "\n",
      "2023-02-24 02:03:19 - Accuracy with Manhattan-Distance:           96.88\t(Threshold: 99.7710)\n",
      "2023-02-24 02:03:19 - F1 with Manhattan-Distance:                 96.97\t(Threshold: 114.4995)\n",
      "2023-02-24 02:03:19 - Precision with Manhattan-Distance:          94.12\n",
      "2023-02-24 02:03:19 - Recall with Manhattan-Distance:             100.00\n",
      "2023-02-24 02:03:19 - Average Precision with Manhattan-Distance:  99.72\n",
      "\n",
      "2023-02-24 02:03:19 - Accuracy with Euclidean-Distance:           96.88\t(Threshold: 4.4660)\n",
      "2023-02-24 02:03:19 - F1 with Euclidean-Distance:                 96.97\t(Threshold: 5.2224)\n",
      "2023-02-24 02:03:19 - Precision with Euclidean-Distance:          94.12\n",
      "2023-02-24 02:03:19 - Recall with Euclidean-Distance:             100.00\n",
      "2023-02-24 02:03:19 - Average Precision with Euclidean-Distance:  99.72\n",
      "\n",
      "2023-02-24 02:03:19 - Accuracy with Dot-Product:           90.62\t(Threshold: 48.7944)\n",
      "2023-02-24 02:03:19 - F1 with Dot-Product:                 91.18\t(Threshold: 47.8709)\n",
      "2023-02-24 02:03:19 - Precision with Dot-Product:          86.11\n",
      "2023-02-24 02:03:19 - Recall with Dot-Product:             96.88\n",
      "2023-02-24 02:03:19 - Average Precision with Dot-Product:  92.16\n",
      "\n",
      "2023-02-24 02:03:19 - Test Performance Metrics:\n",
      "{\n",
      "    \"accuracy\": 0.984375,\n",
      "    \"accuracy_threshold\": 0.8227696418762207,\n",
      "    \"f1\": 0.9841269841269841,\n",
      "    \"f1_threshold\": 0.8227696418762207,\n",
      "    \"precision\": 1.0,\n",
      "    \"recall\": 0.96875,\n",
      "    \"ap\": 0.9965277777777778\n",
      "}\n"
     ]
    }
   ],
   "source": [
    "X_train_txt_sample, y_train_sample = sample_xy(X=X_train_txt,y=y_train,num=64)\n",
    "X_test_txt_sample, y_test_sample = sample_xy(X=X_test_txt,y=y_test,num=32)\n",
    "X_val_txt_sample, y_val_sample = sample_xy(X=X_val_txt,y=y_val,num=32)\n",
    "\n",
    "train_txt_baseline(X_train_txt_sample, y_train_sample, X_test_txt_sample, y_test_sample, X_val_txt_sample, y_val_sample, \n",
    "**baseline_model_params)"
   ]
  },
  {
   "cell_type": "code",
   "execution_count": null,
   "metadata": {},
   "outputs": [],
   "source": []
  },
  {
   "attachments": {},
   "cell_type": "markdown",
   "metadata": {},
   "source": [
    "----\n",
    "\n",
    "## Acknowledgements\n",
    "\n",
    "```bibtex \n",
    "@inproceedings{reimers-2019-sentence-bert,\n",
    "    title     = \"Sentence-BERT: Sentence Embeddings using Siamese   BERT-Networks\",\n",
    "    author    = \"Reimers, Nils and Gurevych, Iryna\",\n",
    "    booktitle = \"Proceedings of the 2019 Conference on Empirical Methods in Natural Language Processing\",\n",
    "    month     = \"11\",\n",
    "    year      = \"2019\",\n",
    "    publisher = \"Association for Computational Linguistics\",\n",
    "    url       = \"https://arxiv.org/abs/1908.10084\",\n",
    "}\n",
    "```\n",
    "  \n",
    "```bibtex  \n",
    "@software{de_bruin_j_2019_3559043,\n",
    "  author       = \"De Bruin, J\",\n",
    "  title        = \"Python Record Linkage Toolkit: A toolkit for record linkage and duplicate detection in Python\",\n",
    "  month        = \"12\",\n",
    "  year         = \"2019\",\n",
    "  publisher    = \"Zenodo\",\n",
    "  version      = \"v0.14\",\n",
    "  doi          = \"10.5281/zenodo.3559043\",\n",
    "  url          = \"https://doi.org/10.5281/zenodo.3559043\"\n",
    "}\n",
    "```\n",
    "\n",
    "\n"
   ]
  }
 ],
 "metadata": {
  "kernelspec": {
   "display_name": ".venv",
   "language": "python",
   "name": "python3"
  },
  "language_info": {
   "codemirror_mode": {
    "name": "ipython",
    "version": 3
   },
   "file_extension": ".py",
   "mimetype": "text/x-python",
   "name": "python",
   "nbconvert_exporter": "python",
   "pygments_lexer": "ipython3",
   "version": "3.8.2"
  },
  "orig_nbformat": 4,
  "vscode": {
   "interpreter": {
    "hash": "6428ed0887bfe3dd6d1bd9b847bc5095062b29fc6dadf2105fd27a91eb126d90"
   }
  }
 },
 "nbformat": 4,
 "nbformat_minor": 2
}
