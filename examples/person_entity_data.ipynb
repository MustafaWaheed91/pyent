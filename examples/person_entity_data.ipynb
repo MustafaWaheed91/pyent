{
 "cells": [
  {
   "attachments": {},
   "cell_type": "markdown",
   "metadata": {},
   "source": [
    "## Entity Matching Example\n",
    "\n",
    "Using FEBRL synthetic data"
   ]
  },
  {
   "attachments": {},
   "cell_type": "markdown",
   "metadata": {},
   "source": [
    "### Load Dependencies"
   ]
  },
  {
   "cell_type": "code",
   "execution_count": 17,
   "metadata": {},
   "outputs": [
    {
     "name": "stdout",
     "output_type": "stream",
     "text": [
      "The autoreload extension is already loaded. To reload it, use:\n",
      "  %reload_ext autoreload\n"
     ]
    }
   ],
   "source": [
    "import pandas as pd\n",
    "from pyent.datasets import generate_febrl_data, remove_nan\n",
    "from pyent.datasets import train_test_validate_stratified_split as ttvs\n",
    "\n",
    "\n",
    "pd.set_option('display.max_columns', None)\n",
    "pd.set_option('display.max_rows', None)\n",
    "\n",
    "%matplotlib inline\n",
    "%load_ext autoreload\n",
    "%autoreload 2"
   ]
  },
  {
   "attachments": {},
   "cell_type": "markdown",
   "metadata": {},
   "source": [
    "### Generate Synthetic Data "
   ]
  },
  {
   "cell_type": "code",
   "execution_count": 18,
   "metadata": {},
   "outputs": [
    {
     "name": "stdout",
     "output_type": "stream",
     "text": [
      "Before Droping NaN's shape of data is (78962, 23)\n",
      "After Droping NaN's shape of data is (50116, 23)\n"
     ]
    },
    {
     "data": {
      "text/html": [
       "<div>\n",
       "<style scoped>\n",
       "    .dataframe tbody tr th:only-of-type {\n",
       "        vertical-align: middle;\n",
       "    }\n",
       "\n",
       "    .dataframe tbody tr th {\n",
       "        vertical-align: top;\n",
       "    }\n",
       "\n",
       "    .dataframe thead th {\n",
       "        text-align: right;\n",
       "    }\n",
       "</style>\n",
       "<table border=\"1\" class=\"dataframe\">\n",
       "  <thead>\n",
       "    <tr style=\"text-align: right;\">\n",
       "      <th></th>\n",
       "      <th>rec_idL</th>\n",
       "      <th>rec_idR</th>\n",
       "      <th>given_name_l</th>\n",
       "      <th>surname_l</th>\n",
       "      <th>street_number_l</th>\n",
       "      <th>address_1_l</th>\n",
       "      <th>address_2_l</th>\n",
       "      <th>suburb_l</th>\n",
       "      <th>postcode_l</th>\n",
       "      <th>state_l</th>\n",
       "      <th>date_of_birth_l</th>\n",
       "      <th>soc_sec_id_l</th>\n",
       "      <th>given_name_r</th>\n",
       "      <th>surname_r</th>\n",
       "      <th>street_number_r</th>\n",
       "      <th>address_1_r</th>\n",
       "      <th>address_2_r</th>\n",
       "      <th>suburb_r</th>\n",
       "      <th>postcode_r</th>\n",
       "      <th>state_r</th>\n",
       "      <th>date_of_birth_r</th>\n",
       "      <th>soc_sec_id_r</th>\n",
       "      <th>labels</th>\n",
       "    </tr>\n",
       "  </thead>\n",
       "  <tbody>\n",
       "    <tr>\n",
       "      <th>2</th>\n",
       "      <td>rec-4609-org</td>\n",
       "      <td>rec-1285-dup-0</td>\n",
       "      <td>sophie</td>\n",
       "      <td>crisci</td>\n",
       "      <td>17</td>\n",
       "      <td>woolner circuit</td>\n",
       "      <td>sefton park</td>\n",
       "      <td>eastern heights</td>\n",
       "      <td>4165</td>\n",
       "      <td>wa</td>\n",
       "      <td>19480428</td>\n",
       "      <td>8614805</td>\n",
       "      <td>sophie</td>\n",
       "      <td>fitzpatrick</td>\n",
       "      <td>5</td>\n",
       "      <td>longerenong street</td>\n",
       "      <td>briars meadows</td>\n",
       "      <td>kincumber</td>\n",
       "      <td>2450</td>\n",
       "      <td>nws</td>\n",
       "      <td>19200110</td>\n",
       "      <td>7018366</td>\n",
       "      <td>no_match</td>\n",
       "    </tr>\n",
       "    <tr>\n",
       "      <th>3</th>\n",
       "      <td>rec-33-org</td>\n",
       "      <td>rec-4212-dup-0</td>\n",
       "      <td>ryan</td>\n",
       "      <td>clarke</td>\n",
       "      <td>42</td>\n",
       "      <td>goodchild street</td>\n",
       "      <td>villa 5</td>\n",
       "      <td>sandy bay</td>\n",
       "      <td>2095</td>\n",
       "      <td>nsw</td>\n",
       "      <td>19940903</td>\n",
       "      <td>9100049</td>\n",
       "      <td>ryan</td>\n",
       "      <td>sherrington</td>\n",
       "      <td>17</td>\n",
       "      <td>stopford crescent</td>\n",
       "      <td>lvel 1280</td>\n",
       "      <td>caulfield north</td>\n",
       "      <td>4715</td>\n",
       "      <td>qld</td>\n",
       "      <td>19680507</td>\n",
       "      <td>8315298</td>\n",
       "      <td>no_match</td>\n",
       "    </tr>\n",
       "    <tr>\n",
       "      <th>4</th>\n",
       "      <td>rec-3143-org</td>\n",
       "      <td>rec-3143-dup-0</td>\n",
       "      <td>kobe</td>\n",
       "      <td>jolly</td>\n",
       "      <td>26</td>\n",
       "      <td>alroy circuit</td>\n",
       "      <td>salmaldo caravan park</td>\n",
       "      <td>kyabram</td>\n",
       "      <td>6317</td>\n",
       "      <td>sa</td>\n",
       "      <td>19841213</td>\n",
       "      <td>4583639</td>\n",
       "      <td>kobe</td>\n",
       "      <td>jolly</td>\n",
       "      <td>26</td>\n",
       "      <td>alroy circuit</td>\n",
       "      <td>salmaldo caravgan park</td>\n",
       "      <td>kyabram</td>\n",
       "      <td>6317</td>\n",
       "      <td>sa</td>\n",
       "      <td>19841213</td>\n",
       "      <td>4583639</td>\n",
       "      <td>match</td>\n",
       "    </tr>\n",
       "  </tbody>\n",
       "</table>\n",
       "</div>"
      ],
      "text/plain": [
       "        rec_idL         rec_idR given_name_l surname_l street_number_l  \\\n",
       "2  rec-4609-org  rec-1285-dup-0       sophie    crisci              17   \n",
       "3    rec-33-org  rec-4212-dup-0         ryan    clarke              42   \n",
       "4  rec-3143-org  rec-3143-dup-0         kobe     jolly              26   \n",
       "\n",
       "        address_1_l            address_2_l         suburb_l postcode_l  \\\n",
       "2   woolner circuit            sefton park  eastern heights       4165   \n",
       "3  goodchild street                villa 5        sandy bay       2095   \n",
       "4     alroy circuit  salmaldo caravan park          kyabram       6317   \n",
       "\n",
       "  state_l date_of_birth_l soc_sec_id_l given_name_r    surname_r  \\\n",
       "2      wa        19480428      8614805       sophie  fitzpatrick   \n",
       "3     nsw        19940903      9100049         ryan  sherrington   \n",
       "4      sa        19841213      4583639         kobe        jolly   \n",
       "\n",
       "  street_number_r         address_1_r             address_2_r  \\\n",
       "2               5  longerenong street          briars meadows   \n",
       "3              17   stopford crescent               lvel 1280   \n",
       "4              26       alroy circuit  salmaldo caravgan park   \n",
       "\n",
       "          suburb_r postcode_r state_r date_of_birth_r soc_sec_id_r    labels  \n",
       "2        kincumber       2450     nws        19200110      7018366  no_match  \n",
       "3  caulfield north       4715     qld        19680507      8315298  no_match  \n",
       "4          kyabram       6317      sa        19841213      4583639     match  "
      ]
     },
     "execution_count": 18,
     "metadata": {},
     "output_type": "execute_result"
    }
   ],
   "source": [
    "master_df = remove_nan(generate_febrl_data(block_col=\"given_name\", init_seed=2))\n",
    "\n",
    "master_df.head(3)"
   ]
  },
  {
   "attachments": {},
   "cell_type": "markdown",
   "metadata": {},
   "source": [
    "### Split Data into Development and Test Sets"
   ]
  },
  {
   "cell_type": "code",
   "execution_count": 19,
   "metadata": {},
   "outputs": [],
   "source": [
    "X = master_df.loc[:, ~master_df.columns.isin([\"labels\"])]\n",
    "y = master_df.loc[:, \"labels\"]\n",
    "\n",
    "X_train, X_test, X_val, y_train, y_test, y_val = ttvs(\n",
    "    features=X, targets=y, test_size=0.1, validate_size=0.2)\n"
   ]
  },
  {
   "attachments": {},
   "cell_type": "markdown",
   "metadata": {},
   "source": [
    "### Consolidate Features for Development and Test\n",
    "\n",
    "Seperate pipelines for textual features, numeric features and catagorical features"
   ]
  },
  {
   "cell_type": "code",
   "execution_count": null,
   "metadata": {},
   "outputs": [],
   "source": []
  },
  {
   "cell_type": "code",
   "execution_count": null,
   "metadata": {},
   "outputs": [],
   "source": []
  },
  {
   "cell_type": "code",
   "execution_count": null,
   "metadata": {},
   "outputs": [],
   "source": []
  },
  {
   "cell_type": "code",
   "execution_count": null,
   "metadata": {},
   "outputs": [],
   "source": []
  },
  {
   "cell_type": "code",
   "execution_count": null,
   "metadata": {},
   "outputs": [],
   "source": []
  },
  {
   "cell_type": "code",
   "execution_count": null,
   "metadata": {},
   "outputs": [],
   "source": []
  }
 ],
 "metadata": {
  "kernelspec": {
   "display_name": ".venv",
   "language": "python",
   "name": "python3"
  },
  "language_info": {
   "codemirror_mode": {
    "name": "ipython",
    "version": 3
   },
   "file_extension": ".py",
   "mimetype": "text/x-python",
   "name": "python",
   "nbconvert_exporter": "python",
   "pygments_lexer": "ipython3",
   "version": "3.8.2"
  },
  "orig_nbformat": 4,
  "vscode": {
   "interpreter": {
    "hash": "5f1e93e26d7669e9e0d35cd257245669219e85b55f93373de93f2c42bca42adc"
   }
  }
 },
 "nbformat": 4,
 "nbformat_minor": 2
}
