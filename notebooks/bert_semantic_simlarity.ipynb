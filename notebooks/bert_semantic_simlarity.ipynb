{
 "cells": [
  {
   "cell_type": "markdown",
   "id": "28df765c-ec6b-450b-a8b4-b40c65f73159",
   "metadata": {},
   "source": [
    "# Install necessary libraries"
   ]
  },
  {
   "cell_type": "code",
   "execution_count": null,
   "id": "bc873328-78e8-4e81-bb0b-fc1ba41bcb82",
   "metadata": {
    "tags": []
   },
   "outputs": [],
   "source": [
    "%%capture\n",
    "\n",
    "!pip install datasets\n",
    "!pip install sentence-transformers\n",
    "!pip install transformers"
   ]
  },
  {
   "cell_type": "markdown",
   "id": "002b8bb8-e806-48a8-ab70-8c8f35d13466",
   "metadata": {},
   "source": [
    "# Import libraries"
   ]
  },
  {
   "cell_type": "code",
   "execution_count": null,
   "id": "d8fe01b5-6a9a-458d-a97f-1fb20b621b0f",
   "metadata": {},
   "outputs": [],
   "source": [
    "import torch\n",
    "from sentence_transformers import SentenceTransformer, models\n",
    "from transformers import BertTokenizer\n",
    "from torch.optim import Adam\n",
    "from torch.utils.data import DataLoader\n",
    "from tqdm import tqdm\n",
    "from datasets import load_dataset"
   ]
  },
  {
   "cell_type": "markdown",
   "id": "0bd9f3e6-9625-4c64-bb76-5e90911239a6",
   "metadata": {},
   "source": [
    "# Fetch data for training and test, as well as the tokenizer"
   ]
  },
  {
   "cell_type": "code",
   "execution_count": null,
   "id": "0fc07b38-8951-4d47-a5e1-ecdf810cdd93",
   "metadata": {},
   "outputs": [],
   "source": [
    "# Dataset for training\n",
    "dataset = load_dataset(\"stsb_multi_mt\", name=\"en\", split=\"train\")\n",
    "similarity = [i['similarity_score'] for i in dataset]\n",
    "normalized_similarity = [i/5.0 for i in similarity]\n",
    "\n",
    "# Dataset for test\n",
    "test_dataset = load_dataset(\"stsb_multi_mt\", name=\"en\", split=\"test\")\n",
    "\n",
    "# Prepare test data\n",
    "sentence_1_test = [i['sentence1'] for i in test_dataset]\n",
    "sentence_2_test = [i['sentence2'] for i in test_dataset]\n",
    "text_cat_test = [[str(x), str(y)] for x,y in zip(sentence_1_test, sentence_2_test)]\n",
    "\n",
    "# Set the tokenizer\n",
    "tokenizer = BertTokenizer.from_pretrained('bert-base-uncased')"
   ]
  },
  {
   "cell_type": "markdown",
   "id": "f5299ca8-d00d-4151-8390-86c97403785d",
   "metadata": {},
   "source": [
    "# Define Model architecture"
   ]
  },
  {
   "cell_type": "code",
   "execution_count": null,
   "id": "8f44b7c4-d15c-4b79-bc5e-371d5bd42ffe",
   "metadata": {},
   "outputs": [],
   "source": [
    "class STSBertModel(torch.nn.Module):\n",
    "\n",
    "    def __init__(self):\n",
    "\n",
    "        super(STSBertModel, self).__init__()\n",
    "\n",
    "        word_embedding_model = models.Transformer('bert-base-uncased', max_seq_length=128)\n",
    "        pooling_model = models.Pooling(word_embedding_model.get_word_embedding_dimension())\n",
    "        self.sts_model = SentenceTransformer(modules=[word_embedding_model, pooling_model])\n",
    "\n",
    "    def forward(self, input_data):\n",
    "\n",
    "        output = self.sts_model(input_data)\n",
    "        \n",
    "        return output"
   ]
  },
  {
   "cell_type": "markdown",
   "id": "3103d5bd-e4f3-4b98-a1c6-cfc354f9edca",
   "metadata": {},
   "source": [
    "# Define Dataloader for training"
   ]
  },
  {
   "cell_type": "code",
   "execution_count": null,
   "id": "98ae2242-af8f-4c76-a21a-4baeeed3ae43",
   "metadata": {},
   "outputs": [],
   "source": [
    "class DataSequence(torch.utils.data.Dataset):\n",
    "\n",
    "    def __init__(self, dataset):\n",
    "\n",
    "        similarity = [i['similarity_score'] for i in dataset]\n",
    "        self.label = [i/5.0 for i in similarity]\n",
    "        self.sentence_1 = [i['sentence1'] for i in dataset]\n",
    "        self.sentence_2 = [i['sentence2'] for i in dataset]\n",
    "        self.text_cat = [[str(x), str(y)] for x,y in zip(self.sentence_1, self.sentence_2)]\n",
    "\n",
    "    def __len__(self):\n",
    "\n",
    "        return len(self.text_cat)\n",
    "\n",
    "    def get_batch_labels(self, idx):\n",
    "\n",
    "        return torch.tensor(self.label[idx])\n",
    "\n",
    "    def get_batch_texts(self, idx):\n",
    "\n",
    "        return tokenizer(self.text_cat[idx], padding='max_length', max_length = 128, truncation=True, return_tensors=\"pt\")\n",
    "\n",
    "    def __getitem__(self, idx):\n",
    "\n",
    "        batch_texts = self.get_batch_texts(idx)\n",
    "        batch_y = self.get_batch_labels(idx)\n",
    "\n",
    "        return batch_texts, batch_y\n",
    "\n",
    "def collate_fn(texts):\n",
    "\n",
    "  num_texts = len(texts['input_ids'])\n",
    "  features = list()\n",
    "  for i in range(num_texts):\n",
    "      features.append({'input_ids':texts['input_ids'][i], 'attention_mask':texts['attention_mask'][i]})\n",
    "  \n",
    "  return features"
   ]
  },
  {
   "cell_type": "markdown",
   "id": "3fd81992-4a05-4f48-9869-83b38b7a3f90",
   "metadata": {},
   "source": [
    "# Define loss function for training"
   ]
  },
  {
   "cell_type": "code",
   "execution_count": null,
   "id": "78ca0312-8648-4101-9429-7286d6268bb5",
   "metadata": {},
   "outputs": [],
   "source": [
    "class CosineSimilarityLoss(torch.nn.Module):\n",
    "\n",
    "    def __init__(self,  loss_fct = torch.nn.MSELoss(), cos_score_transformation=torch.nn.Identity()):\n",
    "      \n",
    "        super(CosineSimilarityLoss, self).__init__()\n",
    "        self.loss_fct = loss_fct\n",
    "        self.cos_score_transformation = cos_score_transformation\n",
    "        self.cos = torch.nn.CosineSimilarity(dim=1)\n",
    "\n",
    "    def forward(self, input, label):\n",
    "\n",
    "        embedding_1 = torch.stack([inp[0] for inp in input])\n",
    "        embedding_2 = torch.stack([inp[1] for inp in input])\n",
    "\n",
    "        output = self.cos_score_transformation(self.cos(embedding_1, embedding_2))\n",
    "\n",
    "        return self.loss_fct(output, label.squeeze()"
   ]
  },
  {
   "cell_type": "markdown",
   "id": "0fc17726-80e4-409d-8183-1ec17d2e05da",
   "metadata": {},
   "source": [
    "# Train the Model"
   ]
  },
  {
   "cell_type": "code",
   "execution_count": null,
   "id": "bcf41a99-3ce1-4125-b464-d3b8d0d295af",
   "metadata": {},
   "outputs": [],
   "source": [
    "def model_train(dataset, epochs, learning_rate, bs):\n",
    "\n",
    "    use_cuda = torch.cuda.is_available()\n",
    "    device = torch.device(\"cuda\" if use_cuda else \"cpu\")\n",
    "\n",
    "    model = STSBertModel()\n",
    "\n",
    "    criterion = CosineSimilarityLoss()\n",
    "    optimizer = Adam(model.parameters(), lr=learning_rate)\n",
    "\n",
    "    train_dataset = DataSequence(dataset)\n",
    "    train_dataloader = DataLoader(train_dataset, num_workers=4, batch_size=bs, shuffle=True)\n",
    "\n",
    "    if use_cuda:\n",
    "        model = model.cuda()\n",
    "        criterion = criterion.cuda()\n",
    "\n",
    "    best_acc = 0.0\n",
    "    best_loss = 1000\n",
    "\n",
    "    for i in range(epochs):\n",
    "\n",
    "        total_acc_train = 0\n",
    "        total_loss_train = 0.0\n",
    "        \n",
    "        for train_data, train_label in tqdm(train_dataloader):\n",
    "            \n",
    "            train_data['input_ids'] = train_data['input_ids'].to(device)\n",
    "            train_data['attention_mask'] = train_data['attention_mask'].to(device)\n",
    "            del train_data['token_type_ids']\n",
    "\n",
    "            train_data = collate_fn(train_data)\n",
    "\n",
    "            output = [model(feature)['sentence_embedding'] for feature in train_data]\n",
    "\n",
    "            loss = criterion(output, train_label.to(device))\n",
    "            total_loss_train += loss.item()\n",
    "\n",
    "            loss.backward()\n",
    "            optimizer.step()\n",
    "            optimizer.zero_grad()\n",
    "\n",
    "        print(f'Epochs: {i + 1} | Loss: {total_loss_train / len(dataset): .3f}')\n",
    "        model.train()\n",
    "\n",
    "    return model\n",
    "\n",
    "EPOCHS = 8\n",
    "LEARNING_RATE = 1e-6\n",
    "BATCH_SIZE = 8\n",
    "\n",
    "# Train the model\n",
    "trained_model = model_train(dataset, EPOCHS, LEARNING_RATE, BATCH_SIZE)"
   ]
  },
  {
   "cell_type": "code",
   "execution_count": null,
   "id": "f8052fa6-8a87-4378-87c1-1714f55a88bc",
   "metadata": {},
   "outputs": [],
   "source": [
    "# Function to predict test data\n",
    "def predict_sts(texts):\n",
    "\n",
    "  trained_model.to('cpu')\n",
    "  trained_model.eval()\n",
    "  test_input = tokenizer(texts, padding='max_length', max_length = 128, truncation=True, return_tensors=\"pt\")\n",
    "  test_input['input_ids'] = test_input['input_ids']\n",
    "  test_input['attention_mask'] = test_input['attention_mask']\n",
    "  del test_input['token_type_ids']\n",
    "\n",
    "  test_output = trained_model(test_input)['sentence_embedding']\n",
    "  sim = torch.nn.functional.cosine_similarity(test_output[0], test_output[1], dim=0).item()\n",
    "\n",
    "  return sim"
   ]
  },
  {
   "cell_type": "markdown",
   "id": "d4f70635-7047-46b5-b313-e2e6963ffdab",
   "metadata": {},
   "source": [
    "# Predict on test data"
   ]
  },
  {
   "cell_type": "code",
   "execution_count": null,
   "id": "e4fde3ae-db23-4135-aa04-4a79d040b089",
   "metadata": {},
   "outputs": [],
   "source": [
    "predict_sts(text_cat_test[245])"
   ]
  },
  {
   "cell_type": "code",
   "execution_count": null,
   "id": "f757ad3e-3ea6-4706-a4f3-4a090fa6dbd2",
   "metadata": {},
   "outputs": [],
   "source": [
    "predict_sts(text_cat_test[420])"
   ]
  }
 ],
 "metadata": {
  "kernelspec": {
   "display_name": "Python 3 (ipykernel)",
   "language": "python",
   "name": "python3"
  },
  "language_info": {
   "codemirror_mode": {
    "name": "ipython",
    "version": 3
   },
   "file_extension": ".py",
   "mimetype": "text/x-python",
   "name": "python",
   "nbconvert_exporter": "python",
   "pygments_lexer": "ipython3",
   "version": "3.9.7"
  }
 },
 "nbformat": 4,
 "nbformat_minor": 5
}
